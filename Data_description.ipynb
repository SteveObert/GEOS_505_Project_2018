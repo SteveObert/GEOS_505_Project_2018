{
 "cells": [
  {
   "cell_type": "markdown",
   "metadata": {},
   "source": [
    "# Project Dataset Overview\n",
    "\n",
    "## Steve Obert\n",
    "\n",
    "\n",
    "\n",
    "\n",
    "Three datasets will be used to examine the relationship between snow melt by elevation and discharge of the Main Salmon river in Idaho. The first dataset to be used in this project is MODIS Normalized Differential Snow Index (NDSI). NDSI Snow Cover data is a representation of the percent snow coverage of a pixel (a 500m x 500m area). It’s important to note that clouds and ice can interfere with snow coverage estimation as they have similar reflectance characteristic. \n",
    "\n",
    "The NDSI data can be downloaded from NASA’s website: https://earthdata.nasa.gov by clicking on ‘Find Data’ and searching for MODIS/Terra Snow Cover Daily L3 Global 500m SIN Grid V006 and selecting an area of interest. In this case, the area of interest will approximate a drainage of the Salomon river in Idaho.\n",
    "\n",
    "<img src=\"files/images/NDSI.tif\">\n",
    "<br>\n",
    "Image above is an example of NDSI data (Ideally the image above would be shown as as a grey scale to better visualize the pixel snow corverage percentages).\n",
    "\n",
    "\n",
    "\n",
    "\n",
    "<br>\n",
    "<br>\n",
    "\n",
    "\n",
    "\n",
    "USGS Stream Flow data will also be used for this project. The data will be a time series of discharge covering one year of a low discharge, high discharge, and average discharge years. The plot below shows average data from 1911 to 2018. However, the project will use data from just 3 years.\n",
    "\n",
    "<img src=\"files/images/Hydro_Graph.png\">\n",
    "<br>\n",
    "    Above: Mean of daily means, minimum of daily mean, and maximum of daily means of discharge for the Main Salmon River at Whitebird, Id.\n",
    "\n",
    "<br>\n",
    "<br>\n",
    "\n",
    "\n",
    "The third set of data will be a digital elevation model or STRM elevation data of the Salmon Drainage. \n",
    "<br>\n",
    "\n",
    "<img src=\"files/images/Drainage.png\">\n",
    "            Above: Image Salmon river Drainage above Salmon River Idaho overlain on DEM.\n",
    " \n",
    "\n",
    "\n",
    "\n",
    "\n",
    "\n",
    "\n",
    "\n",
    "\n",
    "\n",
    "\n",
    "\n",
    "References: \n",
    "\n",
    "MODIS data provided by NASA:\n",
    "Hall, D. K., V. V. Salomonson, and G. A. Riggs. 2006. MODIS/Terra Snow Cover Daily L3 Global 500m Grid. Version 5. Boulder, Colorado USA: NASA National Snow and Ice Data Center Distributed Active Archive Center.\n"
   ]
  },
  {
   "cell_type": "code",
   "execution_count": null,
   "metadata": {
    "collapsed": true
   },
   "outputs": [],
   "source": []
  }
 ],
 "metadata": {
  "kernelspec": {
   "display_name": "Python 3",
   "language": "python",
   "name": "python3"
  },
  "language_info": {
   "codemirror_mode": {
    "name": "ipython",
    "version": 3
   },
   "file_extension": ".py",
   "mimetype": "text/x-python",
   "name": "python",
   "nbconvert_exporter": "python",
   "pygments_lexer": "ipython3",
   "version": "3.6.1"
  }
 },
 "nbformat": 4,
 "nbformat_minor": 2
}
